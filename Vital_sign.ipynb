{
  "cells": [
    {
      "cell_type": "markdown",
      "metadata": {
        "id": "5upJ61naWKGH"
      },
      "source": [
        "# Project 7 - Vital sign\n",
        "\n",
        "**Author: Linh Nguyen**<br>\n",
        "\n",
        "**StudentID: 23161711**<br>\n"
      ]
    },
    {
      "cell_type": "code",
      "execution_count": 1,
      "metadata": {
        "colab": {
          "base_uri": "https://localhost:8080/"
        },
        "id": "O1FXHPG9wtHs",
        "outputId": "f7e253e3-304c-4f72-c21d-854fb716f1d9"
      },
      "outputs": [
        {
          "output_type": "stream",
          "name": "stdout",
          "text": [
            "Drive already mounted at /content/drive; to attempt to forcibly remount, call drive.mount(\"/content/drive\", force_remount=True).\n",
            "/content/drive/MyDrive/Capstone_project\n"
          ]
        }
      ],
      "source": [
        "from google.colab import drive\n",
        "drive.mount('/content/drive')\n",
        "%cd /content/drive/MyDrive/Capstone_project"
      ]
    },
    {
      "cell_type": "code",
      "execution_count": 2,
      "metadata": {
        "colab": {
          "base_uri": "https://localhost:8080/"
        },
        "id": "2Rwt2IjXw0yE",
        "outputId": "615ad145-5aa1-48c2-c3ca-b2a9c0b3f4fb"
      },
      "outputs": [
        {
          "output_type": "stream",
          "name": "stdout",
          "text": [
            "diagnosis.csv  icd9toicd10cmgem.csv  pyxis.csv\t vitalsign.csv\n",
            "edstays.csv    medrecon.csv\t     triage.csv\n"
          ]
        }
      ],
      "source": [
        "! ls /content/drive/MyDrive/Capstone_project/raw"
      ]
    },
    {
      "cell_type": "code",
      "execution_count": 3,
      "metadata": {
        "id": "ChAsZqRExK-V"
      },
      "outputs": [],
      "source": [
        "import numpy as np\n",
        "import pandas as pd\n",
        "from datetime import datetime\n",
        "import re\n",
        "from tensorflow import keras\n",
        "from tensorflow.keras.layers import TextVectorization\n",
        "from tensorflow.keras.layers import Embedding\n",
        "from tensorflow.keras import layers\n",
        "import seaborn as sns\n",
        "from matplotlib import pyplot as plt\n",
        "from tensorflow.keras.callbacks import EarlyStopping\n",
        "import  tensorflow as tf\n",
        "from gensim.models import KeyedVectors\n",
        "from sklearn.model_selection import cross_val_score\n",
        "from sklearn.compose import ColumnTransformer\n",
        "from sklearn.preprocessing import OneHotEncoder, StandardScaler, LabelEncoder\n",
        "from sklearn.impute import SimpleImputer\n",
        "from sklearn.metrics import f1_score, accuracy_score, confusion_matrix,ConfusionMatrixDisplay,classification_report, roc_auc_score"
      ]
    },
    {
      "cell_type": "markdown",
      "metadata": {
        "id": "kIBZF04oY8qP"
      },
      "source": [
        "# 2. Data cleansing\n"
      ]
    },
    {
      "cell_type": "code",
      "execution_count": 4,
      "metadata": {
        "id": "HXhiUvh_zqrN"
      },
      "outputs": [],
      "source": [
        "edstays = pd.read_csv('raw/edstays.csv')\n",
        "edstays['y_var_adm_text'] = edstays['disposition']\n",
        "edstays['intime_h'] = pd.to_datetime(edstays.intime).dt.hour\n",
        "edstays.loc[edstays['y_var_adm_text'] == 'ADMITTED', 'y_var_adm_text'] = 'NOT_DIED'\n",
        "edstays.loc[edstays['y_var_adm_text'] == 'HOME', 'y_var_adm_text'] = 'NOT_DIED'\n",
        "edstays.loc[edstays['y_var_adm_text'] == 'TRANSFER', 'y_var_adm_text'] = 'NOT_DIED'\n",
        "edstays.loc[edstays['y_var_adm_text'] == 'ELOPED','y_var_adm_text'] = 'MISSING'\n",
        "edstays.loc[edstays['y_var_adm_text'] == 'LEFT WITHOUT BEING SEEN','y_var_adm_text'] = 'MISSING'\n",
        "edstays.loc[edstays['y_var_adm_text'] == 'OTHER','y_var_adm_text'] = 'MISSING'\n",
        "edstays.loc[edstays['y_var_adm_text'] == 'LEFT AGAINST MEDICAL ADVICE','y_var_adm_text'] = 'MISSING'\n",
        "edstays.loc[edstays['y_var_adm_text'] == 'EXPIRED','y_var_adm_text'] = 'DIED'\n",
        "edstays_admit = edstays[edstays['y_var_adm_text'] !='MISSING'].reset_index(drop = True)\n",
        "edstays_admit['key'] = edstays_admit['subject_id'].astype(str)+'_'+edstays_admit['stay_id'].astype(str)"
      ]
    },
    {
      "cell_type": "code",
      "execution_count": 5,
      "metadata": {
        "id": "msavnwhI1Q9N"
      },
      "outputs": [],
      "source": [
        "edstays_admit.loc[edstays_admit['race'].str.contains('WHITE'), 'race_color'] = 'WHITE'\n",
        "edstays_admit.loc[edstays_admit['race'].str.contains('BLACK'), 'race_color'] = 'BLACK'\n",
        "edstays_admit.loc[edstays_admit['race'].str.contains('ASIAN'), 'race_color'] = 'ASIAN'\n",
        "edstays_admit.loc[edstays_admit['race'].str.contains('LATINO'), 'race_color'] = 'HISPANIC/LATINO'\n",
        "edstays_admit.loc[edstays_admit['race'].str.contains('HISPANIC'), 'race_color'] = 'HISPANIC/LATINO'\n",
        "edstays_admit.loc[edstays_admit['race_color'].isna(), 'race_color'] = 'OTHER'"
      ]
    },
    {
      "cell_type": "code",
      "execution_count": 6,
      "metadata": {
        "id": "BtZvcq5o6q5J"
      },
      "outputs": [],
      "source": [
        "edstays_admit['DateTime_in'] = pd.to_datetime(edstays_admit['intime'], format='%d/%m/%Y %H:%M')\n",
        "edstays_admit['DateTime_out'] = pd.to_datetime(edstays_admit['outtime'], format='%d/%m/%Y %H:%M')"
      ]
    },
    {
      "cell_type": "code",
      "execution_count": 7,
      "metadata": {
        "id": "-D1ku1gk70Gq"
      },
      "outputs": [],
      "source": [
        "edstays_admit['stay'] = edstays_admit['DateTime_out'] - edstays_admit['DateTime_in']"
      ]
    },
    {
      "cell_type": "code",
      "execution_count": 8,
      "metadata": {
        "id": "3zMl3XcZ6i_L"
      },
      "outputs": [],
      "source": [
        "edstays_admit_1 = edstays_admit.sort_values(by = ['subject_id','DateTime_in'], ascending=True).reset_index(drop=True)"
      ]
    },
    {
      "cell_type": "code",
      "execution_count": 9,
      "metadata": {
        "id": "LkKoVWET6xcl"
      },
      "outputs": [],
      "source": [
        "edstay_hist = {}\n",
        "for i in range(len(edstays_admit_1)):\n",
        "    if i == 0:\n",
        "        edstay_hist[i] = 'NO HISTORY'\n",
        "    else:\n",
        "        if edstays_admit_1['subject_id'][i] == edstays_admit_1['subject_id'][i-1]:\n",
        "            edstay_hist[i] = edstays_admit_1['disposition'][i-1]\n",
        "        else:\n",
        "            edstay_hist[i] = 'NO HISTORY'"
      ]
    },
    {
      "cell_type": "code",
      "execution_count": 10,
      "metadata": {
        "id": "TTy7pQo67Qh8"
      },
      "outputs": [],
      "source": [
        "edstay_laststay = {}\n",
        "for i in range(len(edstays_admit_1)):\n",
        "    if i == 0:\n",
        "        edstay_laststay[i] = np.timedelta64(0, 'D')\n",
        "    else:\n",
        "        if edstays_admit_1['subject_id'][i] == edstays_admit_1['subject_id'][i-1]: \n",
        "          edstay_laststay[i] = edstays_admit_1['stay'][i-1]+edstay_laststay[i-1]\n",
        "        else:\n",
        "            edstay_laststay[i] = np.timedelta64(0, 'D')"
      ]
    },
    {
      "cell_type": "code",
      "execution_count": 11,
      "metadata": {
        "id": "j0k6Zvbz6_qS"
      },
      "outputs": [],
      "source": [
        "df1 = pd.DataFrame.from_dict(edstay_hist,orient='index')\n",
        "df1.columns = ['historical_stay_status']\n",
        "edstays_admit_1 = pd.merge(edstays_admit_1,df1,how = 'left',left_index=True,right_index=True) "
      ]
    },
    {
      "cell_type": "code",
      "execution_count": 12,
      "metadata": {
        "id": "5oPQRFRc7GJg"
      },
      "outputs": [],
      "source": [
        "df1 = pd.DataFrame.from_dict(edstay_laststay,orient='index')\n",
        "df1.columns = ['historical_stay_length']\n",
        "edstays_admit_1 = pd.merge(edstays_admit_1,df1,how = 'left',left_index=True,right_index=True) "
      ]
    },
    {
      "cell_type": "code",
      "execution_count": 13,
      "metadata": {
        "id": "4xl1iHAW8jiM"
      },
      "outputs": [],
      "source": [
        "edstays_admit_1['historical_stay_length_in_day'] = edstays_admit_1['historical_stay_length']/(np.timedelta64(1, 'D'))"
      ]
    },
    {
      "cell_type": "code",
      "execution_count": 14,
      "metadata": {
        "id": "WKhdPBOYPCNv"
      },
      "outputs": [],
      "source": [
        "edstays_admit_2 = pd.merge(edstays_admit,edstays_admit_1[['historical_stay_status','historical_stay_length','historical_stay_length_in_day','subject_id','stay_id']],how = 'left',on=['subject_id', 'stay_id'])"
      ]
    },
    {
      "cell_type": "code",
      "execution_count": 15,
      "metadata": {
        "colab": {
          "base_uri": "https://localhost:8080/"
        },
        "id": "CL03NDqOOgzU",
        "outputId": "dc45b072-7fb6-4f26-cecf-3d96649b0193"
      },
      "outputs": [
        {
          "output_type": "execute_result",
          "data": {
            "text/plain": [
              "Index(['subject_id', 'hadm_id', 'stay_id', 'intime', 'outtime', 'gender',\n",
              "       'race', 'arrival_transport', 'disposition', 'y_var_adm_text',\n",
              "       'intime_h', 'key', 'race_color', 'DateTime_in', 'DateTime_out', 'stay',\n",
              "       'historical_stay_status', 'historical_stay_length',\n",
              "       'historical_stay_length_in_day'],\n",
              "      dtype='object')"
            ]
          },
          "metadata": {},
          "execution_count": 15
        }
      ],
      "source": [
        "edstays_admit_2.columns"
      ]
    },
    {
      "cell_type": "code",
      "execution_count": 16,
      "metadata": {
        "id": "Aw5gGf_Gzump"
      },
      "outputs": [],
      "source": [
        "triage = pd.read_csv('raw/triage.csv')\n"
      ]
    },
    {
      "cell_type": "code",
      "execution_count": 17,
      "metadata": {
        "id": "bGwlY0lW0BKS"
      },
      "outputs": [],
      "source": [
        "edstay_ad = pd.merge(edstays_admit_2,triage,how = 'left',on=['subject_id', 'stay_id'])"
      ]
    },
    {
      "cell_type": "code",
      "execution_count": 18,
      "metadata": {
        "id": "fOssusRI0O3H"
      },
      "outputs": [],
      "source": [
        "edstay_ad['y_var'] = 0\n",
        "edstay_ad.loc[edstay_ad['y_var_adm_text'] == 'DIED', 'y_var']  = 1"
      ]
    },
    {
      "cell_type": "code",
      "execution_count": 19,
      "metadata": {
        "colab": {
          "base_uri": "https://localhost:8080/"
        },
        "id": "Zr7L64Zw2-aZ",
        "outputId": "0e09c5b5-b1df-46a2-c920-45c4a4e1e068"
      },
      "outputs": [
        {
          "output_type": "execute_result",
          "data": {
            "text/plain": [
              "Index(['subject_id', 'hadm_id', 'stay_id', 'intime', 'outtime', 'gender',\n",
              "       'race', 'arrival_transport', 'disposition', 'y_var_adm_text',\n",
              "       'intime_h', 'key', 'race_color', 'DateTime_in', 'DateTime_out', 'stay',\n",
              "       'historical_stay_status', 'historical_stay_length',\n",
              "       'historical_stay_length_in_day', 'temperature', 'heartrate', 'resprate',\n",
              "       'o2sat', 'sbp', 'dbp', 'pain', 'acuity', 'chiefcomplaint', 'y_var'],\n",
              "      dtype='object')"
            ]
          },
          "metadata": {},
          "execution_count": 19
        }
      ],
      "source": [
        "edstay_ad.columns"
      ]
    },
    {
      "cell_type": "code",
      "execution_count": 20,
      "metadata": {
        "id": "ff5D2ZuGbCjU"
      },
      "outputs": [],
      "source": [
        "vital = pd.read_csv('raw/vitalsign.csv')"
      ]
    },
    {
      "cell_type": "code",
      "execution_count": 21,
      "metadata": {
        "colab": {
          "base_uri": "https://localhost:8080/",
          "height": 456
        },
        "id": "3GT8R-fTbLzE",
        "outputId": "1943056e-6942-498e-cf53-fac9a1082c73"
      },
      "outputs": [
        {
          "output_type": "execute_result",
          "data": {
            "text/plain": [
              "(array([3.12952e+05, 8.34000e+04, 1.88980e+04, 9.34400e+03, 2.56300e+03,\n",
              "        1.50100e+03, 6.14000e+02, 2.22000e+02, 1.69000e+02, 5.70000e+01,\n",
              "        4.40000e+01, 2.40000e+01, 1.20000e+01, 1.20000e+01, 7.00000e+00,\n",
              "        3.00000e+00, 3.00000e+00, 0.00000e+00, 6.00000e+00, 1.00000e+00,\n",
              "        3.00000e+00, 0.00000e+00, 1.00000e+00, 1.00000e+00, 0.00000e+00,\n",
              "        0.00000e+00, 0.00000e+00, 1.00000e+00, 0.00000e+00, 1.00000e+00]),\n",
              " array([  1. ,   4.6,   8.2,  11.8,  15.4,  19. ,  22.6,  26.2,  29.8,\n",
              "         33.4,  37. ,  40.6,  44.2,  47.8,  51.4,  55. ,  58.6,  62.2,\n",
              "         65.8,  69.4,  73. ,  76.6,  80.2,  83.8,  87.4,  91. ,  94.6,\n",
              "         98.2, 101.8, 105.4, 109. ]),\n",
              " <a list of 30 Patch objects>)"
            ]
          },
          "metadata": {},
          "execution_count": 21
        },
        {
          "output_type": "display_data",
          "data": {
            "text/plain": [
              "<Figure size 432x288 with 1 Axes>"
            ],
            "image/png": "[encoded data removed]"
          },
          "metadata": {
            "needs_background": "light"
          }
        }
      ],
      "source": [
        "plt.hist(vital.groupby(['subject_id', 'stay_id']).size(), bins = 30)"
      ]
    },
    {
      "cell_type": "code",
      "execution_count": 22,
      "metadata": {
        "colab": {
          "base_uri": "https://localhost:8080/",
          "height": 334
        },
        "id": "hFlTCFt-dbRR",
        "outputId": "1dff475d-9c15-4db5-a448-5066bf9029b7"
      },
      "outputs": [
        {
          "output_type": "execute_result",
          "data": {
            "text/plain": [
              "(array([184241., 128711.,  56147.,  27253.,   8347.,  10551.,   5990.,\n",
              "          3354.,   1927.,   1158.]),\n",
              " array([ 1. ,  2.8,  4.6,  6.4,  8.2, 10. , 11.8, 13.6, 15.4, 17.2, 19. ]),\n",
              " <a list of 10 Patch objects>)"
            ]
          },
          "metadata": {},
          "execution_count": 22
        },
        {
          "output_type": "display_data",
          "data": {
            "text/plain": [
              "<Figure size 432x288 with 1 Axes>"
            ],
            "image/png": "[encoded data removed]"
          },
          "metadata": {
            "needs_background": "light"
          }
        }
      ],
      "source": [
        "plt.hist(vital.groupby(['subject_id', 'stay_id']).size()[vital.groupby(['subject_id', 'stay_id']).size()<20])"
      ]
    },
    {
      "cell_type": "code",
      "execution_count": 23,
      "metadata": {
        "id": "9QlN0Ska0cjl"
      },
      "outputs": [],
      "source": [
        "edstay_ad1 = edstay_ad.drop(['subject_id','hadm_id','stay_id','intime','outtime','race', 'gender','race_color','disposition','y_var_adm_text','key', 'DateTime_in', 'DateTime_out','stay','historical_stay_length','chiefcomplaint', 'pain', 'y_var'], axis = 1)"
      ]
    },
    {
      "cell_type": "code",
      "execution_count": 24,
      "metadata": {
        "colab": {
          "base_uri": "https://localhost:8080/"
        },
        "id": "08gfeuk-xnMN",
        "outputId": "3c1b0e4b-78a7-4df5-aef5-6d5dc13f5f37"
      },
      "outputs": [
        {
          "output_type": "stream",
          "name": "stdout",
          "text": [
            "<class 'pandas.core.frame.DataFrame'>\n",
            "RangeIndex: 1646976 entries, 0 to 1646975\n",
            "Data columns (total 11 columns):\n",
            " #   Column       Non-Null Count    Dtype  \n",
            "---  ------       --------------    -----  \n",
            " 0   subject_id   1646976 non-null  int64  \n",
            " 1   stay_id      1646976 non-null  int64  \n",
            " 2   charttime    1646976 non-null  object \n",
            " 3   temperature  1052781 non-null  float64\n",
            " 4   heartrate    1573609 non-null  float64\n",
            " 5   resprate     1552909 non-null  float64\n",
            " 6   o2sat        1503831 non-null  float64\n",
            " 7   sbp          1561439 non-null  float64\n",
            " 8   dbp          1561439 non-null  float64\n",
            " 9   rhythm       62792 non-null    object \n",
            " 10  pain         1180066 non-null  object \n",
            "dtypes: float64(6), int64(2), object(3)\n",
            "memory usage: 138.2+ MB\n"
          ]
        }
      ],
      "source": [
        "vital.info()"
      ]
    },
    {
      "cell_type": "code",
      "execution_count": 25,
      "metadata": {
        "id": "En-0zkXwxpqX"
      },
      "outputs": [],
      "source": [
        "edstay_ad2 = edstay_ad[['subject_id','stay_id','y_var']]\n",
        "vital2 = pd.merge(edstay_ad2, vital, how = 'left',on=['subject_id', 'stay_id'])"
      ]
    },
    {
      "cell_type": "code",
      "execution_count": 26,
      "metadata": {
        "id": "VEjOBZxEsAwe"
      },
      "outputs": [],
      "source": [
        "vital2['charttime'] = pd.to_datetime(vital2['charttime'], format='%Y-%m-%d %H:%M')"
      ]
    },
    {
      "cell_type": "code",
      "execution_count": 27,
      "metadata": {
        "colab": {
          "base_uri": "https://localhost:8080/"
        },
        "id": "4FIR6wxar91P",
        "outputId": "e19a3436-eed8-44ad-de99-d901350815a1"
      },
      "outputs": [
        {
          "output_type": "stream",
          "name": "stdout",
          "text": [
            "<class 'pandas.core.frame.DataFrame'>\n",
            "Int64Index: 1627625 entries, 0 to 1627624\n",
            "Data columns (total 12 columns):\n",
            " #   Column       Non-Null Count    Dtype         \n",
            "---  ------       --------------    -----         \n",
            " 0   subject_id   1627625 non-null  int64         \n",
            " 1   stay_id      1627625 non-null  int64         \n",
            " 2   y_var        1627625 non-null  int64         \n",
            " 3   charttime    1614559 non-null  datetime64[ns]\n",
            " 4   temperature  1627625 non-null  float64       \n",
            " 5   heartrate    1627625 non-null  float64       \n",
            " 6   resprate     1627625 non-null  float64       \n",
            " 7   o2sat        1627625 non-null  float64       \n",
            " 8   sbp          1627625 non-null  float64       \n",
            " 9   dbp          1627625 non-null  float64       \n",
            " 10  rhythm       61832 non-null    object        \n",
            " 11  pain         1155433 non-null  object        \n",
            "dtypes: datetime64[ns](1), float64(6), int64(3), object(2)\n",
            "memory usage: 161.4+ MB\n"
          ]
        }
      ],
      "source": [
        "my_imputer = SimpleImputer(strategy = 'median')\n",
        "num_attr = ['temperature', 'heartrate', 'resprate', 'o2sat', 'sbp', 'dbp']\n",
        "vital2[num_attr] = my_imputer.fit_transform(vital2[num_attr])\n",
        "vital2.info()"
      ]
    },
    {
      "cell_type": "code",
      "execution_count": 28,
      "metadata": {
        "id": "eKMCOou4s3KO"
      },
      "outputs": [],
      "source": [
        "vital2 = vital2.drop(['rhythm', 'pain'], axis = 1)"
      ]
    },
    {
      "cell_type": "code",
      "execution_count": 29,
      "metadata": {
        "id": "3skCdPALwK54"
      },
      "outputs": [],
      "source": [
        "vi_count = vital2.groupby(['subject_id', 'stay_id']).size()"
      ]
    },
    {
      "cell_type": "code",
      "execution_count": 30,
      "metadata": {
        "id": "xk1y2yLGwZPE"
      },
      "outputs": [],
      "source": [
        "edstay_ad2 = edstay_ad2.merge(vi_count.to_frame(name = \"count_vital\"), on=['subject_id', 'stay_id'])"
      ]
    },
    {
      "cell_type": "code",
      "execution_count": 31,
      "metadata": {
        "id": "f2OWpiaVofPd"
      },
      "outputs": [],
      "source": [
        "vital2\n",
        "num_attr = ['temperature', 'heartrate', 'resprate', 'o2sat', 'sbp', 'dbp']\n",
        "#10000032\t33258284\t\n",
        "#10000032\t38112554"
      ]
    },
    {
      "cell_type": "code",
      "execution_count": 32,
      "metadata": {
        "id": "tNHXFar7l_OF"
      },
      "outputs": [],
      "source": [
        "vital2_dict = {}\n",
        "run_num = -1\n",
        "for i in range(len(edstay_ad2)):\n",
        "  vital2_dict[i] = np.array(vital2.loc[(run_num+1):(run_num+edstay_ad2.loc[i,'count_vital']),num_attr])\n",
        "  run_num =run_num+edstay_ad2.loc[i,'count_vital']"
      ]
    },
    {
      "cell_type": "code",
      "source": [
        "vital3_dict = {}\n",
        "for i in range(len(vital2_dict)):\n",
        "  if (len(vital2_dict[i]) == 1): vital3_dict[i] = [(np.append(np.append(vital2_dict[i],vital2_dict[i], axis=0),vital2_dict[i], axis=0))]\n",
        "  elif (len(vital2_dict[i]) == 2): vital3_dict[i] = [(np.append(vital2_dict[i], np.array([vital2_dict[i][1]]),axis=0))]\n",
        "  else:\n",
        "    vital3_dict[i] = [(vital2_dict[i][-3:])]"
      ],
      "metadata": {
        "id": "KaEIxFkcgVKA"
      },
      "execution_count": 33,
      "outputs": []
    },
    {
      "cell_type": "code",
      "source": [
        "vital3_dict[0]"
      ],
      "metadata": {
        "colab": {
          "base_uri": "https://localhost:8080/"
        },
        "id": "efF7ga_dqeQN",
        "outputId": "9e735838-fbe3-41c5-e123-4a5f10e4ea95"
      },
      "execution_count": 34,
      "outputs": [
        {
          "output_type": "execute_result",
          "data": {
            "text/plain": [
              "[array([[ 97.7,  79. ,  16. ,  98. , 107. ,  60. ],\n",
              "        [ 97.7,  79. ,  16. ,  98. , 107. ,  60. ],\n",
              "        [ 97.7,  79. ,  16. ,  98. , 107. ,  60. ]])]"
            ]
          },
          "metadata": {},
          "execution_count": 34
        }
      ]
    },
    {
      "cell_type": "code",
      "execution_count": 35,
      "metadata": {
        "id": "OOFHYQaH0dnN"
      },
      "outputs": [],
      "source": [
        "df1 = pd.DataFrame.from_dict(vital3_dict, orient = 'index')\n",
        "df1.columns = ['vital_sign']\n",
        "edstay_vi = pd.merge(edstay_ad2,df1,how = 'left',left_index=True,right_index=True)"
      ]
    },
    {
      "cell_type": "code",
      "source": [
        "vital2_dict[0]"
      ],
      "metadata": {
        "colab": {
          "base_uri": "https://localhost:8080/"
        },
        "id": "I4Z4qFEeptHP",
        "outputId": "d8b63c0e-86c9-4b6e-bdab-1d0e198214bd"
      },
      "execution_count": 36,
      "outputs": [
        {
          "output_type": "execute_result",
          "data": {
            "text/plain": [
              "array([[ 97.7,  79. ,  16. ,  98. , 107. ,  60. ]])"
            ]
          },
          "metadata": {},
          "execution_count": 36
        }
      ]
    },
    {
      "cell_type": "code",
      "execution_count": 37,
      "metadata": {
        "id": "xnv6RJLgD0OO",
        "colab": {
          "base_uri": "https://localhost:8080/"
        },
        "outputId": "ccd5ce71-10bc-48d6-a695-1ff68383e3db"
      },
      "outputs": [
        {
          "output_type": "execute_result",
          "data": {
            "text/plain": [
              "(3, 6)"
            ]
          },
          "metadata": {},
          "execution_count": 37
        }
      ],
      "source": [
        "edstay_vi.vital_sign[0].shape"
      ]
    },
    {
      "cell_type": "code",
      "execution_count": 38,
      "metadata": {
        "id": "d1yoLyg_rR3M"
      },
      "outputs": [],
      "source": [
        "updated_edstay_ad = edstay_ad1\n",
        "updated_edstay_ad['temperaturemissing'] = updated_edstay_ad['temperature'].isnull().astype(int)\n",
        "updated_edstay_ad['heartratemissing'] = updated_edstay_ad['heartrate'].isnull().astype(int)\n",
        "updated_edstay_ad['respratemissing'] = updated_edstay_ad['resprate'].isnull().astype(int)\n",
        "updated_edstay_ad['o2satmissing'] = updated_edstay_ad['o2sat'].isnull().astype(int)\n",
        "updated_edstay_ad['sbpmissing'] = updated_edstay_ad['sbp'].isnull().astype(int)\n",
        "updated_edstay_ad['dbpmissing'] = updated_edstay_ad['dbp'].isnull().astype(int)\n",
        "updated_edstay_ad['acuitymissing'] = updated_edstay_ad['acuity'].isnull().astype(int)"
      ]
    },
    {
      "cell_type": "code",
      "execution_count": 39,
      "metadata": {
        "id": "-vOMliYoIu-g"
      },
      "outputs": [],
      "source": [
        "num_attr = edstay_ad1.select_dtypes(include=['float64', 'int64']).columns\n",
        "cat_attr = edstay_ad1.select_dtypes(include=['O']).columns\n",
        "#bool_attr = edstay_ad.select_dtypes(include=['bool']).columns"
      ]
    },
    {
      "cell_type": "code",
      "execution_count": 40,
      "metadata": {
        "id": "pTeKBcqXNJbJ",
        "colab": {
          "base_uri": "https://localhost:8080/"
        },
        "outputId": "d8032cd4-1971-44c5-c934-79a8608729ac"
      },
      "outputs": [
        {
          "output_type": "stream",
          "name": "stdout",
          "text": [
            "<class 'pandas.core.frame.DataFrame'>\n",
            "Int64Index: 428679 entries, 0 to 428678\n",
            "Data columns (total 18 columns):\n",
            " #   Column                         Non-Null Count   Dtype  \n",
            "---  ------                         --------------   -----  \n",
            " 0   arrival_transport              428679 non-null  object \n",
            " 1   intime_h                       428679 non-null  float64\n",
            " 2   historical_stay_status         428679 non-null  object \n",
            " 3   historical_stay_length_in_day  428679 non-null  float64\n",
            " 4   temperature                    428679 non-null  float64\n",
            " 5   heartrate                      428679 non-null  float64\n",
            " 6   resprate                       428679 non-null  float64\n",
            " 7   o2sat                          428679 non-null  float64\n",
            " 8   sbp                            428679 non-null  float64\n",
            " 9   dbp                            428679 non-null  float64\n",
            " 10  acuity                         428679 non-null  float64\n",
            " 11  temperaturemissing             428679 non-null  float64\n",
            " 12  heartratemissing               428679 non-null  float64\n",
            " 13  respratemissing                428679 non-null  float64\n",
            " 14  o2satmissing                   428679 non-null  float64\n",
            " 15  sbpmissing                     428679 non-null  float64\n",
            " 16  dbpmissing                     428679 non-null  float64\n",
            " 17  acuitymissing                  428679 non-null  float64\n",
            "dtypes: float64(16), object(2)\n",
            "memory usage: 62.1+ MB\n"
          ]
        }
      ],
      "source": [
        "my_imputer = SimpleImputer(strategy = 'median')\n",
        "updated_edstay_ad[num_attr] = my_imputer.fit_transform(updated_edstay_ad[num_attr])\n",
        "updated_edstay_ad.info()"
      ]
    },
    {
      "cell_type": "code",
      "execution_count": 41,
      "metadata": {
        "id": "HgaPD8yHOUUU"
      },
      "outputs": [],
      "source": [
        "trans_pip = ColumnTransformer([\n",
        "    (\"num\",StandardScaler(), num_attr),\n",
        "    (\"cat\",OneHotEncoder(),cat_attr)\n",
        "],remainder='passthrough')"
      ]
    },
    {
      "cell_type": "code",
      "execution_count": 42,
      "metadata": {
        "id": "7uVRXHx5iR9F"
      },
      "outputs": [],
      "source": [
        "triage_2 = edstay_ad[['subject_id','stay_id', 'y_var','chiefcomplaint']]"
      ]
    },
    {
      "cell_type": "code",
      "execution_count": 43,
      "metadata": {
        "id": "KNdCBa-yiUGd",
        "colab": {
          "base_uri": "https://localhost:8080/",
          "height": 49
        },
        "outputId": "6f52238c-b409-47f3-d677-e9526d92d272"
      },
      "outputs": [
        {
          "output_type": "execute_result",
          "data": {
            "text/plain": [
              "Empty DataFrame\n",
              "Columns: [subject_id, stay_id, y_var, chiefcomplaint]\n",
              "Index: []"
            ],
            "text/html": [
              "\n",
              "  <div id=\"df-7c2ddc47-661e-483e-9fcd-8b7c9c5e60fe\">\n",
              "    <div class=\"colab-df-container\">\n",
              "      <div>\n",
              "<style scoped>\n",
              "    .dataframe tbody tr th:only-of-type {\n",
              "        vertical-align: middle;\n",
              "    }\n",
              "\n",
              "    .dataframe tbody tr th {\n",
              "        vertical-align: top;\n",
              "    }\n",
              "\n",
              "    .dataframe thead th {\n",
              "        text-align: right;\n",
              "    }\n",
              "</style>\n",
              "<table border=\"1\" class=\"dataframe\">\n",
              "  <thead>\n",
              "    <tr style=\"text-align: right;\">\n",
              "      <th></th>\n",
              "      <th>subject_id</th>\n",
              "      <th>stay_id</th>\n",
              "      <th>y_var</th>\n",
              "      <th>chiefcomplaint</th>\n",
              "    </tr>\n",
              "  </thead>\n",
              "  <tbody>\n",
              "  </tbody>\n",
              "</table>\n",
              "</div>\n",
              "      <button class=\"colab-df-convert\" onclick=\"convertToInteractive('df-7c2ddc47-661e-483e-9fcd-8b7c9c5e60fe')\"\n",
              "              title=\"Convert this dataframe to an interactive table.\"\n",
              "              style=\"display:none;\">\n",
              "        \n",
              "  <svg xmlns=\"http://www.w3.org/2000/svg\" height=\"24px\"viewBox=\"0 0 24 24\"\n",
              "       width=\"24px\">\n",
              "    <path d=\"M0 0h24v24H0V0z\" fill=\"none\"/>\n",
              "    <path d=\"M18.56 5.44l.94 2.06.94-2.06 2.06-.94-2.06-.94-.94-2.06-.94 2.06-2.06.94zm-11 1L8.5 8.5l.94-2.06 2.06-.94-2.06-.94L8.5 2.5l-.94 2.06-2.06.94zm10 10l.94 2.06.94-2.06 2.06-.94-2.06-.94-.94-2.06-.94 2.06-2.06.94z\"/><path d=\"M17.41 7.96l-1.37-1.37c-.4-.4-.92-.59-1.43-.59-.52 0-1.04.2-1.43.59L10.3 9.45l-7.72 7.72c-.78.78-.78 2.05 0 2.83L4 21.41c.39.39.9.59 1.41.59.51 0 1.02-.2 1.41-.59l7.78-7.78 2.81-2.81c.8-.78.8-2.07 0-2.86zM5.41 20L4 18.59l7.72-7.72 1.47 1.35L5.41 20z\"/>\n",
              "  </svg>\n",
              "      </button>\n",
              "      \n",
              "  <style>\n",
              "    .colab-df-container {\n",
              "      display:flex;\n",
              "      flex-wrap:wrap;\n",
              "      gap: 12px;\n",
              "    }\n",
              "\n",
              "    .colab-df-convert {\n",
              "      background-color: #E8F0FE;\n",
              "      border: none;\n",
              "      border-radius: 50%;\n",
              "      cursor: pointer;\n",
              "      display: none;\n",
              "      fill: #1967D2;\n",
              "      height: 32px;\n",
              "      padding: 0 0 0 0;\n",
              "      width: 32px;\n",
              "    }\n",
              "\n",
              "    .colab-df-convert:hover {\n",
              "      background-color: #E2EBFA;\n",
              "      box-shadow: 0px 1px 2px rgba(60, 64, 67, 0.3), 0px 1px 3px 1px rgba(60, 64, 67, 0.15);\n",
              "      fill: #174EA6;\n",
              "    }\n",
              "\n",
              "    [theme=dark] .colab-df-convert {\n",
              "      background-color: #3B4455;\n",
              "      fill: #D2E3FC;\n",
              "    }\n",
              "\n",
              "    [theme=dark] .colab-df-convert:hover {\n",
              "      background-color: #434B5C;\n",
              "      box-shadow: 0px 1px 3px 1px rgba(0, 0, 0, 0.15);\n",
              "      filter: drop-shadow(0px 1px 2px rgba(0, 0, 0, 0.3));\n",
              "      fill: #FFFFFF;\n",
              "    }\n",
              "  </style>\n",
              "\n",
              "      <script>\n",
              "        const buttonEl =\n",
              "          document.querySelector('#df-7c2ddc47-661e-483e-9fcd-8b7c9c5e60fe button.colab-df-convert');\n",
              "        buttonEl.style.display =\n",
              "          google.colab.kernel.accessAllowed ? 'block' : 'none';\n",
              "\n",
              "        async function convertToInteractive(key) {\n",
              "          const element = document.querySelector('#df-7c2ddc47-661e-483e-9fcd-8b7c9c5e60fe');\n",
              "          const dataTable =\n",
              "            await google.colab.kernel.invokeFunction('convertToInteractive',\n",
              "                                                     [key], {});\n",
              "          if (!dataTable) return;\n",
              "\n",
              "          const docLinkHtml = 'Like what you see? Visit the ' +\n",
              "            '<a target=\"_blank\" href=https://colab.research.google.com/notebooks/data_table.ipynb>data table notebook</a>'\n",
              "            + ' to learn more about interactive tables.';\n",
              "          element.innerHTML = '';\n",
              "          dataTable['output_type'] = 'display_data';\n",
              "          await google.colab.output.renderOutput(dataTable, element);\n",
              "          const docLink = document.createElement('div');\n",
              "          docLink.innerHTML = docLinkHtml;\n",
              "          element.appendChild(docLink);\n",
              "        }\n",
              "      </script>\n",
              "    </div>\n",
              "  </div>\n",
              "  "
            ]
          },
          "metadata": {},
          "execution_count": 43
        }
      ],
      "source": [
        "triage_2[triage_2.y_var.isna()]"
      ]
    },
    {
      "cell_type": "code",
      "execution_count": 44,
      "metadata": {
        "id": "yFGua0vwiWSk",
        "colab": {
          "base_uri": "https://localhost:8080/",
          "height": 300
        },
        "outputId": "9d58c196-ab90-44ca-8cf0-9f2612df1378"
      },
      "outputs": [
        {
          "output_type": "execute_result",
          "data": {
            "text/plain": [
              "        subject_id   stay_id  y_var chiefcomplaint\n",
              "210020    14913519  33280070      0            NaN\n",
              "219240    15127661  39766508      0            NaN\n",
              "230261    15376111  34216718      0            NaN\n",
              "241806    15632852  37860864      0            NaN\n",
              "308281    17192157  31192693      0            NaN\n",
              "322666    17526143  30744048      0            NaN\n",
              "357115    18321345  37024607      0            NaN\n",
              "361271    18425846  33948058      0            NaN"
            ],
            "text/html": [
              "\n",
              "  <div id=\"df-8e43b68b-3a15-4638-8fcd-57f0ea3e0fab\">\n",
              "    <div class=\"colab-df-container\">\n",
              "      <div>\n",
              "<style scoped>\n",
              "    .dataframe tbody tr th:only-of-type {\n",
              "        vertical-align: middle;\n",
              "    }\n",
              "\n",
              "    .dataframe tbody tr th {\n",
              "        vertical-align: top;\n",
              "    }\n",
              "\n",
              "    .dataframe thead th {\n",
              "        text-align: right;\n",
              "    }\n",
              "</style>\n",
              "<table border=\"1\" class=\"dataframe\">\n",
              "  <thead>\n",
              "    <tr style=\"text-align: right;\">\n",
              "      <th></th>\n",
              "      <th>subject_id</th>\n",
              "      <th>stay_id</th>\n",
              "      <th>y_var</th>\n",
              "      <th>chiefcomplaint</th>\n",
              "    </tr>\n",
              "  </thead>\n",
              "  <tbody>\n",
              "    <tr>\n",
              "      <th>210020</th>\n",
              "      <td>14913519</td>\n",
              "      <td>33280070</td>\n",
              "      <td>0</td>\n",
              "      <td>NaN</td>\n",
              "    </tr>\n",
              "    <tr>\n",
              "      <th>219240</th>\n",
              "      <td>15127661</td>\n",
              "      <td>39766508</td>\n",
              "      <td>0</td>\n",
              "      <td>NaN</td>\n",
              "    </tr>\n",
              "    <tr>\n",
              "      <th>230261</th>\n",
              "      <td>15376111</td>\n",
              "      <td>34216718</td>\n",
              "      <td>0</td>\n",
              "      <td>NaN</td>\n",
              "    </tr>\n",
              "    <tr>\n",
              "      <th>241806</th>\n",
              "      <td>15632852</td>\n",
              "      <td>37860864</td>\n",
              "      <td>0</td>\n",
              "      <td>NaN</td>\n",
              "    </tr>\n",
              "    <tr>\n",
              "      <th>308281</th>\n",
              "      <td>17192157</td>\n",
              "      <td>31192693</td>\n",
              "      <td>0</td>\n",
              "      <td>NaN</td>\n",
              "    </tr>\n",
              "    <tr>\n",
              "      <th>322666</th>\n",
              "      <td>17526143</td>\n",
              "      <td>30744048</td>\n",
              "      <td>0</td>\n",
              "      <td>NaN</td>\n",
              "    </tr>\n",
              "    <tr>\n",
              "      <th>357115</th>\n",
              "      <td>18321345</td>\n",
              "      <td>37024607</td>\n",
              "      <td>0</td>\n",
              "      <td>NaN</td>\n",
              "    </tr>\n",
              "    <tr>\n",
              "      <th>361271</th>\n",
              "      <td>18425846</td>\n",
              "      <td>33948058</td>\n",
              "      <td>0</td>\n",
              "      <td>NaN</td>\n",
              "    </tr>\n",
              "  </tbody>\n",
              "</table>\n",
              "</div>\n",
              "      <button class=\"colab-df-convert\" onclick=\"convertToInteractive('df-8e43b68b-3a15-4638-8fcd-57f0ea3e0fab')\"\n",
              "              title=\"Convert this dataframe to an interactive table.\"\n",
              "              style=\"display:none;\">\n",
              "        \n",
              "  <svg xmlns=\"http://www.w3.org/2000/svg\" height=\"24px\"viewBox=\"0 0 24 24\"\n",
              "       width=\"24px\">\n",
              "    <path d=\"M0 0h24v24H0V0z\" fill=\"none\"/>\n",
              "    <path d=\"M18.56 5.44l.94 2.06.94-2.06 2.06-.94-2.06-.94-.94-2.06-.94 2.06-2.06.94zm-11 1L8.5 8.5l.94-2.06 2.06-.94-2.06-.94L8.5 2.5l-.94 2.06-2.06.94zm10 10l.94 2.06.94-2.06 2.06-.94-2.06-.94-.94-2.06-.94 2.06-2.06.94z\"/><path d=\"M17.41 7.96l-1.37-1.37c-.4-.4-.92-.59-1.43-.59-.52 0-1.04.2-1.43.59L10.3 9.45l-7.72 7.72c-.78.78-.78 2.05 0 2.83L4 21.41c.39.39.9.59 1.41.59.51 0 1.02-.2 1.41-.59l7.78-7.78 2.81-2.81c.8-.78.8-2.07 0-2.86zM5.41 20L4 18.59l7.72-7.72 1.47 1.35L5.41 20z\"/>\n",
              "  </svg>\n",
              "      </button>\n",
              "      \n",
              "  <style>\n",
              "    .colab-df-container {\n",
              "      display:flex;\n",
              "      flex-wrap:wrap;\n",
              "      gap: 12px;\n",
              "    }\n",
              "\n",
              "    .colab-df-convert {\n",
              "      background-color: #E8F0FE;\n",
              "      border: none;\n",
              "      border-radius: 50%;\n",
              "      cursor: pointer;\n",
              "      display: none;\n",
              "      fill: #1967D2;\n",
              "      height: 32px;\n",
              "      padding: 0 0 0 0;\n",
              "      width: 32px;\n",
              "    }\n",
              "\n",
              "    .colab-df-convert:hover {\n",
              "      background-color: #E2EBFA;\n",
              "      box-shadow: 0px 1px 2px rgba(60, 64, 67, 0.3), 0px 1px 3px 1px rgba(60, 64, 67, 0.15);\n",
              "      fill: #174EA6;\n",
              "    }\n",
              "\n",
              "    [theme=dark] .colab-df-convert {\n",
              "      background-color: #3B4455;\n",
              "      fill: #D2E3FC;\n",
              "    }\n",
              "\n",
              "    [theme=dark] .colab-df-convert:hover {\n",
              "      background-color: #434B5C;\n",
              "      box-shadow: 0px 1px 3px 1px rgba(0, 0, 0, 0.15);\n",
              "      filter: drop-shadow(0px 1px 2px rgba(0, 0, 0, 0.3));\n",
              "      fill: #FFFFFF;\n",
              "    }\n",
              "  </style>\n",
              "\n",
              "      <script>\n",
              "        const buttonEl =\n",
              "          document.querySelector('#df-8e43b68b-3a15-4638-8fcd-57f0ea3e0fab button.colab-df-convert');\n",
              "        buttonEl.style.display =\n",
              "          google.colab.kernel.accessAllowed ? 'block' : 'none';\n",
              "\n",
              "        async function convertToInteractive(key) {\n",
              "          const element = document.querySelector('#df-8e43b68b-3a15-4638-8fcd-57f0ea3e0fab');\n",
              "          const dataTable =\n",
              "            await google.colab.kernel.invokeFunction('convertToInteractive',\n",
              "                                                     [key], {});\n",
              "          if (!dataTable) return;\n",
              "\n",
              "          const docLinkHtml = 'Like what you see? Visit the ' +\n",
              "            '<a target=\"_blank\" href=https://colab.research.google.com/notebooks/data_table.ipynb>data table notebook</a>'\n",
              "            + ' to learn more about interactive tables.';\n",
              "          element.innerHTML = '';\n",
              "          dataTable['output_type'] = 'display_data';\n",
              "          await google.colab.output.renderOutput(dataTable, element);\n",
              "          const docLink = document.createElement('div');\n",
              "          docLink.innerHTML = docLinkHtml;\n",
              "          element.appendChild(docLink);\n",
              "        }\n",
              "      </script>\n",
              "    </div>\n",
              "  </div>\n",
              "  "
            ]
          },
          "metadata": {},
          "execution_count": 44
        }
      ],
      "source": [
        "triage_2[triage_2.chiefcomplaint.isna()]"
      ]
    },
    {
      "cell_type": "code",
      "execution_count": 45,
      "metadata": {
        "id": "U1JEt0WmiYG6",
        "colab": {
          "base_uri": "https://localhost:8080/"
        },
        "outputId": "55e89b82-9eed-4365-bd45-9366a8eb3f1a"
      },
      "outputs": [
        {
          "output_type": "stream",
          "name": "stderr",
          "text": [
            "/usr/local/lib/python3.7/dist-packages/pandas/core/indexing.py:1817: SettingWithCopyWarning: \n",
            "A value is trying to be set on a copy of a slice from a DataFrame.\n",
            "Try using .loc[row_indexer,col_indexer] = value instead\n",
            "\n",
            "See the caveats in the documentation: https://pandas.pydata.org/pandas-docs/stable/user_guide/indexing.html#returning-a-view-versus-a-copy\n",
            "  self._setitem_single_column(loc, value, pi)\n"
          ]
        }
      ],
      "source": [
        "triage_2.loc[triage_2['chiefcomplaint'].isna(),'chiefcomplaint'] = ''"
      ]
    },
    {
      "cell_type": "code",
      "execution_count": 46,
      "metadata": {
        "id": "Bdjz31XMmhQU",
        "colab": {
          "base_uri": "https://localhost:8080/",
          "height": 49
        },
        "outputId": "9026fe00-9dc8-44be-ea40-e7d4ae5d54bb"
      },
      "outputs": [
        {
          "output_type": "execute_result",
          "data": {
            "text/plain": [
              "Empty DataFrame\n",
              "Columns: [subject_id, stay_id, y_var, chiefcomplaint]\n",
              "Index: []"
            ],
            "text/html": [
              "\n",
              "  <div id=\"df-92db504b-6e9c-4c39-b774-f1a194128288\">\n",
              "    <div class=\"colab-df-container\">\n",
              "      <div>\n",
              "<style scoped>\n",
              "    .dataframe tbody tr th:only-of-type {\n",
              "        vertical-align: middle;\n",
              "    }\n",
              "\n",
              "    .dataframe tbody tr th {\n",
              "        vertical-align: top;\n",
              "    }\n",
              "\n",
              "    .dataframe thead th {\n",
              "        text-align: right;\n",
              "    }\n",
              "</style>\n",
              "<table border=\"1\" class=\"dataframe\">\n",
              "  <thead>\n",
              "    <tr style=\"text-align: right;\">\n",
              "      <th></th>\n",
              "      <th>subject_id</th>\n",
              "      <th>stay_id</th>\n",
              "      <th>y_var</th>\n",
              "      <th>chiefcomplaint</th>\n",
              "    </tr>\n",
              "  </thead>\n",
              "  <tbody>\n",
              "  </tbody>\n",
              "</table>\n",
              "</div>\n",
              "      <button class=\"colab-df-convert\" onclick=\"convertToInteractive('df-92db504b-6e9c-4c39-b774-f1a194128288')\"\n",
              "              title=\"Convert this dataframe to an interactive table.\"\n",
              "              style=\"display:none;\">\n",
              "        \n",
              "  <svg xmlns=\"http://www.w3.org/2000/svg\" height=\"24px\"viewBox=\"0 0 24 24\"\n",
              "       width=\"24px\">\n",
              "    <path d=\"M0 0h24v24H0V0z\" fill=\"none\"/>\n",
              "    <path d=\"M18.56 5.44l.94 2.06.94-2.06 2.06-.94-2.06-.94-.94-2.06-.94 2.06-2.06.94zm-11 1L8.5 8.5l.94-2.06 2.06-.94-2.06-.94L8.5 2.5l-.94 2.06-2.06.94zm10 10l.94 2.06.94-2.06 2.06-.94-2.06-.94-.94-2.06-.94 2.06-2.06.94z\"/><path d=\"M17.41 7.96l-1.37-1.37c-.4-.4-.92-.59-1.43-.59-.52 0-1.04.2-1.43.59L10.3 9.45l-7.72 7.72c-.78.78-.78 2.05 0 2.83L4 21.41c.39.39.9.59 1.41.59.51 0 1.02-.2 1.41-.59l7.78-7.78 2.81-2.81c.8-.78.8-2.07 0-2.86zM5.41 20L4 18.59l7.72-7.72 1.47 1.35L5.41 20z\"/>\n",
              "  </svg>\n",
              "      </button>\n",
              "      \n",
              "  <style>\n",
              "    .colab-df-container {\n",
              "      display:flex;\n",
              "      flex-wrap:wrap;\n",
              "      gap: 12px;\n",
              "    }\n",
              "\n",
              "    .colab-df-convert {\n",
              "      background-color: #E8F0FE;\n",
              "      border: none;\n",
              "      border-radius: 50%;\n",
              "      cursor: pointer;\n",
              "      display: none;\n",
              "      fill: #1967D2;\n",
              "      height: 32px;\n",
              "      padding: 0 0 0 0;\n",
              "      width: 32px;\n",
              "    }\n",
              "\n",
              "    .colab-df-convert:hover {\n",
              "      background-color: #E2EBFA;\n",
              "      box-shadow: 0px 1px 2px rgba(60, 64, 67, 0.3), 0px 1px 3px 1px rgba(60, 64, 67, 0.15);\n",
              "      fill: #174EA6;\n",
              "    }\n",
              "\n",
              "    [theme=dark] .colab-df-convert {\n",
              "      background-color: #3B4455;\n",
              "      fill: #D2E3FC;\n",
              "    }\n",
              "\n",
              "    [theme=dark] .colab-df-convert:hover {\n",
              "      background-color: #434B5C;\n",
              "      box-shadow: 0px 1px 3px 1px rgba(0, 0, 0, 0.15);\n",
              "      filter: drop-shadow(0px 1px 2px rgba(0, 0, 0, 0.3));\n",
              "      fill: #FFFFFF;\n",
              "    }\n",
              "  </style>\n",
              "\n",
              "      <script>\n",
              "        const buttonEl =\n",
              "          document.querySelector('#df-92db504b-6e9c-4c39-b774-f1a194128288 button.colab-df-convert');\n",
              "        buttonEl.style.display =\n",
              "          google.colab.kernel.accessAllowed ? 'block' : 'none';\n",
              "\n",
              "        async function convertToInteractive(key) {\n",
              "          const element = document.querySelector('#df-92db504b-6e9c-4c39-b774-f1a194128288');\n",
              "          const dataTable =\n",
              "            await google.colab.kernel.invokeFunction('convertToInteractive',\n",
              "                                                     [key], {});\n",
              "          if (!dataTable) return;\n",
              "\n",
              "          const docLinkHtml = 'Like what you see? Visit the ' +\n",
              "            '<a target=\"_blank\" href=https://colab.research.google.com/notebooks/data_table.ipynb>data table notebook</a>'\n",
              "            + ' to learn more about interactive tables.';\n",
              "          element.innerHTML = '';\n",
              "          dataTable['output_type'] = 'display_data';\n",
              "          await google.colab.output.renderOutput(dataTable, element);\n",
              "          const docLink = document.createElement('div');\n",
              "          docLink.innerHTML = docLinkHtml;\n",
              "          element.appendChild(docLink);\n",
              "        }\n",
              "      </script>\n",
              "    </div>\n",
              "  </div>\n",
              "  "
            ]
          },
          "metadata": {},
          "execution_count": 46
        }
      ],
      "source": [
        "triage_2[triage_2['chiefcomplaint'].isna()]"
      ]
    },
    {
      "cell_type": "code",
      "execution_count": 47,
      "metadata": {
        "id": "16YXIBH_ioRr",
        "colab": {
          "base_uri": "https://localhost:8080/"
        },
        "outputId": "05baf851-9842-465c-8189-3a6b9e0abef6"
      },
      "outputs": [
        {
          "output_type": "stream",
          "name": "stderr",
          "text": [
            "/usr/local/lib/python3.7/dist-packages/pandas/core/generic.py:5516: SettingWithCopyWarning: \n",
            "A value is trying to be set on a copy of a slice from a DataFrame.\n",
            "Try using .loc[row_indexer,col_indexer] = value instead\n",
            "\n",
            "See the caveats in the documentation: https://pandas.pydata.org/pandas-docs/stable/user_guide/indexing.html#returning-a-view-versus-a-copy\n",
            "  self[name] = value\n"
          ]
        }
      ],
      "source": [
        "# Preprocess the job_description (remove the weird part of strings)\n",
        "def preprocess_text(text):\n",
        "    if type(text) == float:\n",
        "        return text\n",
        "    text = text.lower()\n",
        "    text = re.sub(r\"([.,!?])\", r\" \\1 \", text)\n",
        "    text = re.sub(r\"[^a-zA-Z.,!?]+\", r\" \", text)\n",
        "    return text\n",
        "    \n",
        "triage_2.chiefcomplaint = triage_2.chiefcomplaint.apply(preprocess_text)"
      ]
    },
    {
      "cell_type": "code",
      "execution_count": 48,
      "metadata": {
        "id": "611DCkBZipYq"
      },
      "outputs": [],
      "source": [
        "df_pre_icd_full = pd.read_csv('previous_icd_code.csv')\n",
        "\n",
        "triage_3 = pd.merge(triage_2,df_pre_icd_full, how = \"left\",on=['subject_id', 'stay_id'])"
      ]
    },
    {
      "cell_type": "code",
      "execution_count": 49,
      "metadata": {
        "id": "KcYxPXiMkKtR"
      },
      "outputs": [],
      "source": [
        "#set random index, create train set and validation set from the original train set\n",
        "\n",
        "#create array of random index\n",
        "np.random.seed(123)\n",
        "ind = np.arange(len(triage_3))\n",
        "np.random.shuffle(ind)\n",
        "#create testing index  = 0 to 0.20 * random index\n",
        "test_index = ind[:int(len(triage_3) * 0.20)]\n",
        "#create val index  = 0.20 to 0.30 * random index\n",
        "val_index = ind[int(len(triage_3) * 0.20):int(len(triage_3) * 0.30)]\n",
        "#create train index = 0.30 * random index to end\n",
        "train_index = ind[int(len(triage_3) * 0.30):]"
      ]
    },
    {
      "cell_type": "code",
      "execution_count": 50,
      "metadata": {
        "id": "wN3IXd2_GtTo",
        "colab": {
          "base_uri": "https://localhost:8080/"
        },
        "outputId": "16d04295-a8e5-4f28-dfe2-b25c2d551c16"
      },
      "outputs": [
        {
          "output_type": "execute_result",
          "data": {
            "text/plain": [
              "array([392038,   9421, 172836, ...,  28030, 277869, 249342])"
            ]
          },
          "metadata": {},
          "execution_count": 50
        }
      ],
      "source": [
        "train_index"
      ]
    },
    {
      "cell_type": "code",
      "execution_count": 51,
      "metadata": {
        "id": "PGASQwJ1lIY3"
      },
      "outputs": [],
      "source": [
        "train_samples_chief =  triage_3.chiefcomplaint[train_index]\n",
        "train_samples_his =  triage_3.pre_icd_code[train_index]\n",
        "val_samples_chief =  triage_3.chiefcomplaint[val_index]\n",
        "val_samples_his =  triage_3.pre_icd_code[val_index]\n",
        "test_samples_chief =  triage_3.chiefcomplaint[test_index]\n",
        "test_samples_his =  triage_3.pre_icd_code[test_index]\n",
        "train_samples_o =  updated_edstay_ad.iloc[train_index]\n",
        "val_samples_o =  updated_edstay_ad.iloc[val_index]\n",
        "test_samples_o =  updated_edstay_ad.iloc[test_index]\n",
        "train_labels =  triage_3.y_var[train_index]\n",
        "val_labels = triage_3.y_var[val_index]\n",
        "test_labels = triage_3.y_var[test_index]\n",
        "\n",
        "\n",
        "train_samples_vital = edstay_vi.vital_sign[train_index]\n",
        "val_samples_vital = edstay_vi.vital_sign[val_index]\n",
        "test_samples_vital = edstay_vi.vital_sign[test_index]"
      ]
    },
    {
      "cell_type": "markdown",
      "metadata": {
        "id": "1Ppo387um95r"
      },
      "source": [
        "# 3. Embedding for chief complaint and historical icd code\n",
        "\n",
        "### 3.1 Embedding for chief complaint"
      ]
    },
    {
      "cell_type": "code",
      "execution_count": 52,
      "metadata": {
        "id": "IltdDsh2nFCj"
      },
      "outputs": [],
      "source": [
        "vectorizer = TextVectorization(output_sequence_length=5)\n",
        "text_ds = tf.data.Dataset.from_tensor_slices(train_samples_chief).batch(128)\n",
        "vectorizer.adapt(text_ds)"
      ]
    },
    {
      "cell_type": "code",
      "execution_count": 53,
      "metadata": {
        "id": "Xj9dlAkem9La",
        "colab": {
          "base_uri": "https://localhost:8080/"
        },
        "outputId": "4f6fabe3-9662-4738-96ff-79561bd0a33e"
      },
      "outputs": [
        {
          "output_type": "execute_result",
          "data": {
            "text/plain": [
              "['', '[UNK]', 'pain', 'abd', 'l']"
            ]
          },
          "metadata": {},
          "execution_count": 53
        }
      ],
      "source": [
        "#print top 5 words\n",
        "vectorizer.get_vocabulary()[:5]"
      ]
    },
    {
      "cell_type": "code",
      "execution_count": 54,
      "metadata": {
        "id": "N23Bavr3na6P",
        "colab": {
          "base_uri": "https://localhost:8080/"
        },
        "outputId": "ff809f37-0cb9-418b-c051-ecf1bab1f816"
      },
      "outputs": [
        {
          "output_type": "execute_result",
          "data": {
            "text/plain": [
              "array([ 3,  2, 28, 21,  0])"
            ]
          },
          "metadata": {},
          "execution_count": 54
        }
      ],
      "source": [
        "#example of vectorizing a sentences:\n",
        "output = vectorizer([[\"Abd pain, Wound eval\"]])\n",
        "output.numpy()[0, :6]"
      ]
    },
    {
      "cell_type": "code",
      "execution_count": 55,
      "metadata": {
        "id": "oPirBJSJnpHb"
      },
      "outputs": [],
      "source": [
        "#build vocabulary dictionary for chief complaint:\n",
        "voc = vectorizer.get_vocabulary()\n",
        "word_index = dict(zip(voc, range(len(voc))))"
      ]
    },
    {
      "cell_type": "code",
      "execution_count": 56,
      "metadata": {
        "id": "hwWyTKhgn0Qm"
      },
      "outputs": [],
      "source": [
        "#load the model w2vec for chief complaint:\n",
        "model_w2v = KeyedVectors.load_word2vec_format('W2vec/BioWordVec_PubMed_MIMICIII_d200.vec.bin', binary=True)"
      ]
    },
    {
      "cell_type": "code",
      "execution_count": 57,
      "metadata": {
        "id": "dZagaNdKoHt6",
        "colab": {
          "base_uri": "https://localhost:8080/"
        },
        "outputId": "1dd64ea3-c2b9-4386-ff0c-b5b97e305871"
      },
      "outputs": [
        {
          "output_type": "stream",
          "name": "stdout",
          "text": [
            "Converted 4257 words (162 misses)\n"
          ]
        }
      ],
      "source": [
        "num_tokens = len(voc) + 2\n",
        "embedding_dim = 200\n",
        "hits = 0\n",
        "misses = 0\n",
        "\n",
        "# Prepare embedding matrix\n",
        "embedding_matrix = np.zeros((num_tokens, embedding_dim))\n",
        "for word, i in word_index.items():\n",
        "    if word in model_w2v.vocab:\n",
        "        embedding_vector = model_w2v.get_vector(word)\n",
        "        embedding_matrix[i] = embedding_vector\n",
        "        hits += 1\n",
        "    else:\n",
        "        initializer = tf.keras.initializers.GlorotNormal(seed = 123)\n",
        "        values = initializer(shape=(1, 200))\n",
        "        embedding_matrix[i] = values\n",
        "        misses += 1\n",
        "print(\"Converted %d words (%d misses)\" % (hits, misses))\n"
      ]
    },
    {
      "cell_type": "code",
      "execution_count": 58,
      "metadata": {
        "id": "2ZY5zbX_oPLy"
      },
      "outputs": [],
      "source": [
        "#create embedding layers\n",
        "embedding_layer = Embedding(\n",
        "    num_tokens,\n",
        "    embedding_dim,\n",
        "    embeddings_initializer=keras.initializers.Constant(embedding_matrix),\n",
        "    trainable=False,\n",
        ")"
      ]
    },
    {
      "cell_type": "markdown",
      "metadata": {
        "id": "jjGj0rCPqPwV"
      },
      "source": [
        "### 3.2 Embedding for historical icd code group"
      ]
    },
    {
      "cell_type": "code",
      "execution_count": 59,
      "metadata": {
        "id": "aBXpSUpkopQj"
      },
      "outputs": [],
      "source": [
        "his_icd_top198 = pd.read_csv('top198historical_icd.csv')"
      ]
    },
    {
      "cell_type": "code",
      "execution_count": 60,
      "metadata": {
        "id": "AQRI1A4UouPw"
      },
      "outputs": [],
      "source": [
        "vectorizer_his = TextVectorization(output_sequence_length=5)\n",
        "text_ds_his = tf.data.Dataset.from_tensor_slices(his_icd_top198['icd_group']).batch(128)\n",
        "vectorizer_his.adapt(text_ds_his)"
      ]
    },
    {
      "cell_type": "code",
      "execution_count": 61,
      "metadata": {
        "id": "x3fAiKOCovxg",
        "colab": {
          "base_uri": "https://localhost:8080/"
        },
        "outputId": "da35eb00-7391-46ff-a4b3-8cda3fc8abcf"
      },
      "outputs": [
        {
          "output_type": "execute_result",
          "data": {
            "text/plain": [
              "['', '[UNK]', 'z99', 'z95', 'z94']"
            ]
          },
          "metadata": {},
          "execution_count": 61
        }
      ],
      "source": [
        "#top 5 icd:\n",
        "\n",
        "vectorizer_his.get_vocabulary()[:5]"
      ]
    },
    {
      "cell_type": "code",
      "execution_count": 62,
      "metadata": {
        "id": "PfMJBbe5o1et"
      },
      "outputs": [],
      "source": [
        "voc_his = vectorizer_his.get_vocabulary()\n",
        "word_index_his = dict(zip(voc_his, range(len(voc_his))))\n",
        "num_tokens_his = len(voc_his) + 2\n",
        "embedding_dim_his = 200\n",
        "\n",
        "\n",
        "# Prepare embedding matrix (create one hot encoding matrix for historical icd code)\n",
        "embedding_matrix_his = np.zeros((num_tokens_his, embedding_dim_his))\n",
        "for word, i in word_index_his.items():\n",
        "    embedding_vector = np.zeros(embedding_dim_his)\n",
        "    embedding_vector[vectorizer_his([word]).numpy()[0][0]] = 1\n",
        "    embedding_matrix_his[i] = embedding_vector"
      ]
    },
    {
      "cell_type": "code",
      "execution_count": 63,
      "metadata": {
        "id": "V1Yz8G3ZpOW0"
      },
      "outputs": [],
      "source": [
        "embedding_layer_his = Embedding(\n",
        "    num_tokens_his,\n",
        "    embedding_dim_his,\n",
        "    embeddings_initializer=keras.initializers.Constant(embedding_matrix_his),\n",
        "    trainable=False,\n",
        ")"
      ]
    },
    {
      "cell_type": "markdown",
      "metadata": {
        "id": "1YNFmBoVqMFT"
      },
      "source": [
        "### 3.3 Concat 2 embedding"
      ]
    },
    {
      "cell_type": "code",
      "execution_count": 64,
      "metadata": {
        "id": "6tijLqBTqXOm"
      },
      "outputs": [],
      "source": [
        "#tf.concat([embedding_layer(x_train[0]),[embedding_layer_his(x_train[0])]],0)"
      ]
    },
    {
      "cell_type": "code",
      "source": [
        "#tf.convert_to_tensor([tf.convert_to_tensor(s) for s in train_samples_vital])"
      ],
      "metadata": {
        "id": "ZKX8WrSPTFv8"
      },
      "execution_count": 65,
      "outputs": []
    },
    {
      "cell_type": "markdown",
      "metadata": {
        "id": "2qpk0Hglqoaw"
      },
      "source": [
        "# 4 BiLSTM model using historical and current data (historical icd code & chief complaint)"
      ]
    },
    {
      "cell_type": "code",
      "execution_count": 93,
      "metadata": {
        "id": "nYljj_U9nBkT"
      },
      "outputs": [],
      "source": [
        "x_train = vectorizer(np.array([[s] for s in train_samples_chief])).numpy()\n",
        "x_train_his = vectorizer_his(np.array([[s] for s in train_samples_his])).numpy()\n",
        "x_train_o = trans_pip.fit_transform(train_samples_o)\n",
        "x_train_vi = np.array([s for s in train_samples_vital])\n",
        "y_train = np.array(train_labels)\n",
        "\n",
        "x_val = vectorizer(np.array([[s] for s in val_samples_chief])).numpy()\n",
        "x_val_his = vectorizer_his(np.array([[s] for s in val_samples_his])).numpy()\n",
        "x_val_o = trans_pip.transform(val_samples_o)\n",
        "x_val_vi = np.array([s for s in val_samples_vital])\n",
        "y_val = np.array(val_labels)\n",
        "\n"
      ]
    },
    {
      "cell_type": "code",
      "source": [
        "feature_names = list(trans_pip.get_feature_names_out())\n",
        "feature_names"
      ],
      "metadata": {
        "colab": {
          "base_uri": "https://localhost:8080/"
        },
        "id": "wOQb8ubFxVMq",
        "outputId": "9f27ba19-dc7b-4fdc-fc2b-0e084c58bcdd"
      },
      "execution_count": 67,
      "outputs": [
        {
          "output_type": "execute_result",
          "data": {
            "text/plain": [
              "['num__intime_h',\n",
              " 'num__historical_stay_length_in_day',\n",
              " 'num__temperature',\n",
              " 'num__heartrate',\n",
              " 'num__resprate',\n",
              " 'num__o2sat',\n",
              " 'num__sbp',\n",
              " 'num__dbp',\n",
              " 'num__acuity',\n",
              " 'num__temperaturemissing',\n",
              " 'num__heartratemissing',\n",
              " 'num__respratemissing',\n",
              " 'num__o2satmissing',\n",
              " 'num__sbpmissing',\n",
              " 'num__dbpmissing',\n",
              " 'num__acuitymissing',\n",
              " 'cat__arrival_transport_AMBULANCE',\n",
              " 'cat__arrival_transport_HELICOPTER',\n",
              " 'cat__arrival_transport_OTHER',\n",
              " 'cat__arrival_transport_UNKNOWN',\n",
              " 'cat__arrival_transport_WALK IN',\n",
              " 'cat__historical_stay_status_ADMITTED',\n",
              " 'cat__historical_stay_status_EXPIRED',\n",
              " 'cat__historical_stay_status_HOME',\n",
              " 'cat__historical_stay_status_NO HISTORY',\n",
              " 'cat__historical_stay_status_TRANSFER']"
            ]
          },
          "metadata": {},
          "execution_count": 67
        }
      ]
    },
    {
      "cell_type": "code",
      "source": [
        "len(feature_names)"
      ],
      "metadata": {
        "colab": {
          "base_uri": "https://localhost:8080/"
        },
        "id": "21WCGGL-2Ohe",
        "outputId": "223c3f19-d507-4423-a298-147f22e46277"
      },
      "execution_count": 68,
      "outputs": [
        {
          "output_type": "execute_result",
          "data": {
            "text/plain": [
              "26"
            ]
          },
          "metadata": {},
          "execution_count": 68
        }
      ]
    },
    {
      "cell_type": "code",
      "execution_count": 67,
      "metadata": {
        "colab": {
          "base_uri": "https://localhost:8080/"
        },
        "id": "TN5esIqN8qNU",
        "outputId": "e38f7ac9-ac1a-4ef7-cd7a-6b209cb5cf3e"
      },
      "outputs": [
        {
          "output_type": "execute_result",
          "data": {
            "text/plain": [
              "(300076, 25)"
            ]
          },
          "metadata": {},
          "execution_count": 67
        }
      ],
      "source": [
        "x_train_o.shape"
      ]
    },
    {
      "cell_type": "code",
      "source": [
        "x_train"
      ],
      "metadata": {
        "id": "YnV8guL0u9bN"
      },
      "execution_count": null,
      "outputs": []
    },
    {
      "cell_type": "code",
      "source": [
        "type(train_samples_vital.to_frame())"
      ],
      "metadata": {
        "colab": {
          "base_uri": "https://localhost:8080/"
        },
        "id": "GVk_lSirbOBD",
        "outputId": "b114d2e7-831f-428e-d978-b8386e828786"
      },
      "execution_count": 246,
      "outputs": [
        {
          "output_type": "execute_result",
          "data": {
            "text/plain": [
              "pandas.core.frame.DataFrame"
            ]
          },
          "metadata": {},
          "execution_count": 246
        }
      ]
    },
    {
      "cell_type": "code",
      "source": [
        "type(train_samples_vital[1])"
      ],
      "metadata": {
        "colab": {
          "base_uri": "https://localhost:8080/"
        },
        "id": "PjHy24m-aykD",
        "outputId": "4cfcbfa8-3105-476a-f36d-9417459f9f71"
      },
      "execution_count": 248,
      "outputs": [
        {
          "output_type": "execute_result",
          "data": {
            "text/plain": [
              "numpy.ndarray"
            ]
          },
          "metadata": {},
          "execution_count": 248
        }
      ]
    },
    {
      "cell_type": "code",
      "source": [
        "type(x_train_vi)"
      ],
      "metadata": {
        "colab": {
          "base_uri": "https://localhost:8080/"
        },
        "id": "5p_EbKz4buaF",
        "outputId": "6ac83757-541f-4d47-bd05-1fec124b09a4"
      },
      "execution_count": 214,
      "outputs": [
        {
          "output_type": "execute_result",
          "data": {
            "text/plain": [
              "list"
            ]
          },
          "metadata": {},
          "execution_count": 214
        }
      ]
    },
    {
      "cell_type": "code",
      "source": [
        "x_train[0]"
      ],
      "metadata": {
        "colab": {
          "base_uri": "https://localhost:8080/"
        },
        "id": "bkopBGE6vYQq",
        "outputId": "a5917dee-c119-4e61-f79b-24193add4408"
      },
      "execution_count": 250,
      "outputs": [
        {
          "output_type": "execute_result",
          "data": {
            "text/plain": [
              "array([68, 16,  2,  0,  0])"
            ]
          },
          "metadata": {},
          "execution_count": 250
        }
      ]
    },
    {
      "cell_type": "code",
      "source": [
        "embedding_layer(x_train[0])"
      ],
      "metadata": {
        "id": "PGyt-14HvNIu"
      },
      "execution_count": null,
      "outputs": []
    },
    {
      "cell_type": "code",
      "source": [
        "tf.convert_to_tensor(x_train_vi)"
      ],
      "metadata": {
        "colab": {
          "base_uri": "https://localhost:8080/"
        },
        "id": "NtOU-uXNdqVz",
        "outputId": "25ff889d-41ab-4785-db66-203a62d34f53"
      },
      "execution_count": 269,
      "outputs": [
        {
          "output_type": "execute_result",
          "data": {
            "text/plain": [
              "<tf.Tensor: shape=(300076, 3, 6), dtype=float64, numpy=\n",
              "array([[[ 98.3,  80. ,  18. , 100. , 107. ,  52. ],\n",
              "        [ 98.3,  73. ,  18. , 100. , 127. ,  74. ],\n",
              "        [ 98.4,  99. ,  18. , 100. , 134. ,  71. ]],\n",
              "\n",
              "       [[ 98.4,  72. ,  18. ,  98. , 138. ,  80. ],\n",
              "        [ 98.2,  73. ,  18. ,  98. , 134. ,  82. ],\n",
              "        [ 98.4,  77. ,  18. ,  99. , 149. ,  78. ]],\n",
              "\n",
              "       [[ 98.4,  66. ,  16. , 100. , 138. ,  73. ],\n",
              "        [ 98.4,  66. ,  16. , 100. , 138. ,  73. ],\n",
              "        [ 98.4,  66. ,  16. , 100. , 138. ,  73. ]],\n",
              "\n",
              "       ...,\n",
              "\n",
              "       [[ 98.1,  87. ,  17. ,  97. , 138. ,  69. ],\n",
              "        [ 98.1,  89. ,  15. ,  97. , 132. ,  77. ],\n",
              "        [ 98.1,  79. ,  18. ,  98. , 126. ,  72. ]],\n",
              "\n",
              "       [[ 97.7,  64. ,  18. , 100. , 183. ,  68. ],\n",
              "        [ 97.6,  64. ,  16. , 100. , 104. ,  60. ],\n",
              "        [ 97.6,  64. ,  16. , 100. , 104. ,  60. ]],\n",
              "\n",
              "       [[ 96.8,  60. ,  14. , 100. , 121. ,  68. ],\n",
              "        [ 98. ,  56. ,  18. ,  98. , 128. ,  65. ],\n",
              "        [ 98. ,  56. ,  18. ,  98. , 128. ,  65. ]]])>"
            ]
          },
          "metadata": {},
          "execution_count": 269
        }
      ]
    },
    {
      "cell_type": "code",
      "execution_count": 94,
      "metadata": {
        "id": "0FDeXKPiszhA"
      },
      "outputs": [],
      "source": [
        "\n",
        "#Optimized parameters for LSTM: {'units': 114, 'activation': 'tanh', 'optimizer': 'adam', 'rate': 0}\n",
        "#Optimized parameters for MLP: {'units': 100/50/1, 'glorot_uniform', 0, 'relu'}\n",
        "\n",
        "col1 = keras.Input(shape = (5,))\n",
        "embedded_sequences1 = embedding_layer_his(col1)\n",
        "col2 = keras.Input(shape = (5,))\n",
        "embedded_sequences2 = embedding_layer(col2)\n",
        "embedded_sequences = keras.layers.Concatenate(axis=1)([embedded_sequences1, embedded_sequences2])\n",
        "inp3 = keras.Input(shape = (26,))\n",
        "inp4 = keras.Input(shape = (3,))\n",
        "\n",
        "\n",
        "\n",
        "def create_mlp(dim):\n",
        "  inp3 = keras.Input(shape = (dim,))\n",
        "  x = keras.layers.Dense(100, kernel_initializer = 'he_normal', input_dim=dim, activation=\"relu\")(inp3)\n",
        "  x = keras.layers.Dense(64, kernel_initializer = 'he_normal', activation=\"relu\")(x)\n",
        "  #x = keras.layers.Dense(6,activation = 'relu')(x)\n",
        "  #x = keras.layers.Dense(32, kernel_initializer = 'he_normal', activation=\"relu\")(x)\n",
        "  #x = keras.layers.Dense(1,  activation=\"sigmoid\")(x)\n",
        "  #preds = keras.layers.Dense(1,activation = 'sigmoid')(x)\n",
        "  model = keras.models.Model(inputs = inp3, outputs = x)\n",
        "  return model\n",
        "\n",
        "def create_GRU():\n",
        "  col1 = keras.Input(shape = (5,))\n",
        "  col2 = keras.Input(shape = (5,))\n",
        "  embedded_sequences1 = embedding_layer_his(col1)\n",
        "  embedded_sequences2 = embedding_layer(col2)\n",
        "  embedded_sequences = keras.layers.Concatenate(axis=1)([embedded_sequences1, embedded_sequences2])\n",
        "  x = keras.layers.Bidirectional(keras.layers.GRU(114, return_sequences=True))(embedded_sequences)\n",
        "  x = keras.layers.Bidirectional(keras.layers.GRU(114))(x)\n",
        "  x = keras.layers.Dense(64,activation = 'relu')(x)\n",
        "  #x = keras.layers.Dense(6,activation = 'relu')(x)\n",
        "  #preds = keras.layers.Dense(1,activation = 'sigmoid')(x)\n",
        "  model = keras.models.Model(inputs = [col1,col2], outputs = x)\n",
        "  return model\n",
        "  \n",
        "def create_LSTM():\n",
        "  inp4 = keras.Input(shape = (None,6))\n",
        "  x = keras.layers.Bidirectional(keras.layers.LSTM(64, return_sequences=True))(inp4)\n",
        "  x = keras.layers.Bidirectional(keras.layers.LSTM(64))(x)\n",
        "  x = keras.layers.Dense(64,activation = 'relu')(x)\n",
        "  #preds = keras.layers.Dense(1,activation = 'sigmoid')(x)\n",
        "  model = keras.models.Model(inputs = inp4, outputs = x)\n",
        "  return model\n",
        "\n",
        "tf.random.set_seed(42)\n",
        "\n",
        "mlp = create_mlp(26)\n",
        "gru = create_GRU()\n",
        "LSTM = create_LSTM()\n"
      ]
    },
    {
      "cell_type": "code",
      "execution_count": 96,
      "metadata": {
        "id": "kfspuTHKUCXY"
      },
      "outputs": [],
      "source": [
        "combinedInput = keras.layers.concatenate([mlp.output, gru.output, LSTM.output])\n",
        "x = keras.layers.Dense(64)(combinedInput)\n",
        "x = keras.layers.Dense(32)(x)\n",
        "x = keras.layers.Dense(1, activation=\"sigmoid\")(x)\n",
        "model = keras.models.Model(inputs=[mlp.input, gru.input,LSTM.input], outputs=x)\n"
      ]
    },
    {
      "cell_type": "code",
      "execution_count": 97,
      "metadata": {
        "id": "HsdEH5_zWsE5"
      },
      "outputs": [],
      "source": [
        "\n",
        "model.compile(loss = 'binary_crossentropy', optimizer = 'Adam', metrics = \"accuracy\")\n",
        "early = EarlyStopping(monitor='val_loss', patience=10)"
      ]
    },
    {
      "cell_type": "code",
      "source": [
        "weights = {0:1-(sum(y_train)/len(y_train)),1:sum(y_train)/len(y_train)}\n",
        "weights"
      ],
      "metadata": {
        "colab": {
          "base_uri": "https://localhost:8080/"
        },
        "id": "LVDdseja2ZFb",
        "outputId": "6ad1b9f5-5d3e-49d1-cb39-f3d3e7cb3f7f"
      },
      "execution_count": 89,
      "outputs": [
        {
          "output_type": "execute_result",
          "data": {
            "text/plain": [
              "{0: 0.9990735680294326, 1: 0.0009264319705674563}"
            ]
          },
          "metadata": {},
          "execution_count": 89
        }
      ]
    },
    {
      "cell_type": "code",
      "execution_count": 98,
      "metadata": {
        "colab": {
          "base_uri": "https://localhost:8080/"
        },
        "id": "VQ4NwxJmW8Yz",
        "outputId": "b9431ece-877a-466f-87f5-39ef2b8fea5e"
      },
      "outputs": [
        {
          "output_type": "stream",
          "name": "stdout",
          "text": [
            "Epoch 1/100\n",
            "1173/1173 [==============================] - 202s 158ms/step - loss: 0.0012 - accuracy: 0.9986 - val_loss: 0.0254 - val_accuracy: 0.9991\n",
            "Epoch 2/100\n",
            "1173/1173 [==============================] - 181s 154ms/step - loss: 1.9795e-05 - accuracy: 0.9991 - val_loss: 0.0155 - val_accuracy: 0.9991\n",
            "Epoch 3/100\n",
            "1173/1173 [==============================] - 180s 154ms/step - loss: 1.2938e-05 - accuracy: 0.9991 - val_loss: 0.0101 - val_accuracy: 0.9991\n",
            "Epoch 4/100\n",
            "1173/1173 [==============================] - 179s 152ms/step - loss: 1.0124e-05 - accuracy: 0.9991 - val_loss: 0.0096 - val_accuracy: 0.9991\n",
            "Epoch 5/100\n",
            "1173/1173 [==============================] - 180s 153ms/step - loss: 9.9346e-06 - accuracy: 0.9991 - val_loss: 0.0090 - val_accuracy: 0.9991\n",
            "Epoch 6/100\n",
            "1173/1173 [==============================] - 179s 153ms/step - loss: 9.8299e-06 - accuracy: 0.9991 - val_loss: 0.0077 - val_accuracy: 0.9991\n",
            "Epoch 7/100\n",
            "1173/1173 [==============================] - 180s 153ms/step - loss: 9.8267e-06 - accuracy: 0.9991 - val_loss: 0.0089 - val_accuracy: 0.9991\n",
            "Epoch 8/100\n",
            "1173/1173 [==============================] - 182s 156ms/step - loss: 9.7685e-06 - accuracy: 0.9991 - val_loss: 0.0106 - val_accuracy: 0.9991\n",
            "Epoch 9/100\n",
            "1173/1173 [==============================] - 180s 154ms/step - loss: 9.7264e-06 - accuracy: 0.9991 - val_loss: 0.0090 - val_accuracy: 0.9991\n",
            "Epoch 10/100\n",
            "1173/1173 [==============================] - 181s 154ms/step - loss: 9.8126e-06 - accuracy: 0.9991 - val_loss: 0.0093 - val_accuracy: 0.9991\n",
            "Epoch 11/100\n",
            "1173/1173 [==============================] - 182s 155ms/step - loss: 9.7611e-06 - accuracy: 0.9991 - val_loss: 0.0103 - val_accuracy: 0.9991\n",
            "Epoch 12/100\n",
            "1173/1173 [==============================] - 182s 155ms/step - loss: 9.7299e-06 - accuracy: 0.9991 - val_loss: 0.0095 - val_accuracy: 0.9991\n",
            "Epoch 13/100\n",
            "1173/1173 [==============================] - 182s 155ms/step - loss: 9.7518e-06 - accuracy: 0.9991 - val_loss: 0.0092 - val_accuracy: 0.9991\n",
            "Epoch 14/100\n",
            "1173/1173 [==============================] - 181s 154ms/step - loss: 9.5744e-06 - accuracy: 0.9991 - val_loss: 0.0100 - val_accuracy: 0.9991\n",
            "Epoch 15/100\n",
            "1173/1173 [==============================] - 183s 156ms/step - loss: 9.5775e-06 - accuracy: 0.9991 - val_loss: 0.0088 - val_accuracy: 0.9991\n",
            "Epoch 16/100\n",
            "1173/1173 [==============================] - 183s 156ms/step - loss: 9.6262e-06 - accuracy: 0.9991 - val_loss: 0.0097 - val_accuracy: 0.9991\n"
          ]
        },
        {
          "output_type": "execute_result",
          "data": {
            "text/plain": [
              "<keras.callbacks.History at 0x7f984805df90>"
            ]
          },
          "metadata": {},
          "execution_count": 98
        }
      ],
      "source": [
        "weights = {0:1-(sum(y_train)/len(y_train)),1:sum(y_train)/len(y_train)}\n",
        "model.fit(x=[x_train_o,[x_train_his,x_train], x_train_vi], y = y_train, validation_data=([x_val_o,[x_val_his,x_val],x_val_vi], y_val), batch_size = 256, epochs=100, callbacks=[early],class_weight = weights)\n"
      ]
    },
    {
      "cell_type": "code",
      "source": [
        "model.summary()"
      ],
      "metadata": {
        "colab": {
          "base_uri": "https://localhost:8080/"
        },
        "id": "h_j875-DeB3o",
        "outputId": "9c807f70-329e-4d2c-ad5c-aad3f0af46c6"
      },
      "execution_count": 99,
      "outputs": [
        {
          "output_type": "stream",
          "name": "stdout",
          "text": [
            "Model: \"model_24\"\n",
            "__________________________________________________________________________________________________\n",
            " Layer (type)                   Output Shape         Param #     Connected to                     \n",
            "==================================================================================================\n",
            " input_62 (InputLayer)          [(None, 5)]          0           []                               \n",
            "                                                                                                  \n",
            " input_63 (InputLayer)          [(None, 5)]          0           []                               \n",
            "                                                                                                  \n",
            " embedding_1 (Embedding)        (None, 5, 200)       40400       ['input_62[0][0]']               \n",
            "                                                                                                  \n",
            " embedding (Embedding)          (None, 5, 200)       884200      ['input_63[0][0]']               \n",
            "                                                                                                  \n",
            " concatenate_18 (Concatenate)   (None, 10, 200)      0           ['embedding_1[15][0]',           \n",
            "                                                                  'embedding[15][0]']             \n",
            "                                                                                                  \n",
            " input_64 (InputLayer)          [(None, None, 6)]    0           []                               \n",
            "                                                                                                  \n",
            " input_61 (InputLayer)          [(None, 26)]         0           []                               \n",
            "                                                                                                  \n",
            " bidirectional_24 (Bidirectiona  (None, 10, 228)     216144      ['concatenate_18[0][0]']         \n",
            " l)                                                                                               \n",
            "                                                                                                  \n",
            " bidirectional_26 (Bidirectiona  (None, None, 128)   36352       ['input_64[0][0]']               \n",
            " l)                                                                                               \n",
            "                                                                                                  \n",
            " dense_33 (Dense)               (None, 100)          2700        ['input_61[0][0]']               \n",
            "                                                                                                  \n",
            " bidirectional_25 (Bidirectiona  (None, 228)         235296      ['bidirectional_24[0][0]']       \n",
            " l)                                                                                               \n",
            "                                                                                                  \n",
            " bidirectional_27 (Bidirectiona  (None, 128)         98816       ['bidirectional_26[0][0]']       \n",
            " l)                                                                                               \n",
            "                                                                                                  \n",
            " dense_34 (Dense)               (None, 64)           6464        ['dense_33[0][0]']               \n",
            "                                                                                                  \n",
            " dense_35 (Dense)               (None, 64)           14656       ['bidirectional_25[0][0]']       \n",
            "                                                                                                  \n",
            " dense_36 (Dense)               (None, 64)           8256        ['bidirectional_27[0][0]']       \n",
            "                                                                                                  \n",
            " concatenate_20 (Concatenate)   (None, 192)          0           ['dense_34[0][0]',               \n",
            "                                                                  'dense_35[0][0]',               \n",
            "                                                                  'dense_36[0][0]']               \n",
            "                                                                                                  \n",
            " dense_40 (Dense)               (None, 64)           12352       ['concatenate_20[0][0]']         \n",
            "                                                                                                  \n",
            " dense_41 (Dense)               (None, 32)           2080        ['dense_40[0][0]']               \n",
            "                                                                                                  \n",
            " dense_42 (Dense)               (None, 1)            33          ['dense_41[0][0]']               \n",
            "                                                                                                  \n",
            "==================================================================================================\n",
            "Total params: 1,557,749\n",
            "Trainable params: 633,149\n",
            "Non-trainable params: 924,600\n",
            "__________________________________________________________________________________________________\n"
          ]
        }
      ]
    },
    {
      "cell_type": "code",
      "source": [
        "from keras.utils.vis_utils import plot_model\n",
        "\n",
        "plot_model(model, show_shapes=True, show_layer_names=True)"
      ],
      "metadata": {
        "colab": {
          "base_uri": "https://localhost:8080/",
          "height": 1000
        },
        "id": "WnDYEb2CqjRM",
        "outputId": "1b9bc691-7cbd-4239-bd6f-689a0a528391"
      },
      "execution_count": 100,
      "outputs": [
        {
          "output_type": "execute_result",
          "data": {
            "image/png": "[encoded data removed]",
            "text/plain": [
              "<IPython.core.display.Image object>"
            ]
          },
          "metadata": {},
          "execution_count": 100
        }
      ]
    },
    {
      "cell_type": "code",
      "source": [
        "x_test = vectorizer(np.array([[s] for s in test_samples_chief])).numpy()\n",
        "x_test_his = vectorizer_his(np.array([[s] for s in test_samples_his])).numpy()\n",
        "x_test_o = trans_pip.transform(test_samples_o)\n",
        "x_test_vi = np.array([s for s in test_samples_vital])\n",
        "y_test = np.array(test_labels)"
      ],
      "metadata": {
        "id": "ktd1H86BqshR"
      },
      "execution_count": 101,
      "outputs": []
    },
    {
      "cell_type": "code",
      "source": [
        "y_test_pred = model.predict(x=[x_test_o,x_test_his, x_test, x_test_vi])\n",
        "\n",
        "print(\"roc auc for validation set:\", roc_auc_score(y_test, y_test_pred))\n",
        "\n",
        "\n"
      ],
      "metadata": {
        "colab": {
          "base_uri": "https://localhost:8080/"
        },
        "id": "zXrvv3onEgOB",
        "outputId": "97f44138-50bf-4212-dfb6-94d7db16ee4b"
      },
      "execution_count": 116,
      "outputs": [
        {
          "output_type": "stream",
          "name": "stdout",
          "text": [
            "roc auc for validation set: 0.931263765689783\n"
          ]
        }
      ]
    },
    {
      "cell_type": "code",
      "source": [
        "y_pred_test_class = np.where(y_test_pred> 0.000001, 1, 0)\n",
        "print(\"accuracy score for test set:\", accuracy_score(y_test, y_pred_test_class))\n",
        "print(\"f1 score for test set:\", f1_score(y_test, y_pred_test_class))\n",
        "confusion_matrix(y_test, y_pred_test_class)"
      ],
      "metadata": {
        "colab": {
          "base_uri": "https://localhost:8080/"
        },
        "id": "C26Ki_O_roBV",
        "outputId": "b9f32e14-9cd1-4663-e9a7-2c1b7f850a85"
      },
      "execution_count": 130,
      "outputs": [
        {
          "output_type": "stream",
          "name": "stdout",
          "text": [
            "accuracy score for test set: 0.9736746952819735\n",
            "f1 score for test set: 0.04968421052631579\n"
          ]
        },
        {
          "output_type": "execute_result",
          "data": {
            "text/plain": [
              "array([[83419,  2237],\n",
              "       [   20,    59]])"
            ]
          },
          "metadata": {},
          "execution_count": 130
        }
      ]
    },
    {
      "cell_type": "code",
      "source": [
        "disp = ConfusionMatrixDisplay(confusion_matrix(y_test, y_pred_test_class), display_labels = [\"Not dead\",\"Dead\"])\n",
        "disp.plot()\n",
        "plt.show()"
      ],
      "metadata": {
        "colab": {
          "base_uri": "https://localhost:8080/",
          "height": 279
        },
        "id": "RgZb6Y4AgcMZ",
        "outputId": "c80d32af-a45b-4096-b981-480c12d87a99"
      },
      "execution_count": 131,
      "outputs": [
        {
          "output_type": "display_data",
          "data": {
            "text/plain": [
              "<Figure size 432x288 with 2 Axes>"
            ],
            "image/png": "[encoded data removed]"
          },
          "metadata": {
            "needs_background": "light"
          }
        }
      ]
    }
  ],
  "metadata": {
    "colab": {
      "machine_shape": "hm",
      "provenance": [],
      "collapsed_sections": []
    },
    "kernelspec": {
      "display_name": "Python 3",
      "name": "python3"
    },
    "language_info": {
      "name": "python"
    }
  },
  "nbformat": 4,
  "nbformat_minor": 0
}